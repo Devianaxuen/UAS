{
 "cells": [
  {
   "cell_type": "markdown",
   "metadata": {},
   "source": [
    "## Soal : \n",
    "3. Bandingkan performa dari setidaknya 5 classification model yang pernah dipelajari di kelas.\n",
    "4. Sertakan visualisasi data yang menggambarkan perbandingan performa dari kelima model."
   ]
  },
  {
   "cell_type": "markdown",
   "metadata": {},
   "source": [
    "# Breast Cancer Dataset"
   ]
  },
  {
   "cell_type": "markdown",
   "metadata": {},
   "source": [
    "## Load Breast Cancer Dataset"
   ]
  },
  {
   "cell_type": "code",
   "execution_count": 24,
   "metadata": {},
   "outputs": [
    {
     "name": "stdout",
     "output_type": "stream",
     "text": [
      "Dimensi Feature: (569, 30)\n",
      "Class: {0, 1}\n"
     ]
    }
   ],
   "source": [
    "from sklearn.datasets import load_breast_cancer\n",
    "\n",
    "X, y = load_breast_cancer(return_X_y=True)\n",
    "\n",
    "print(f'Dimensi Feature: {X.shape}')\n",
    "print(f'Class: {set(y)}')"
   ]
  },
  {
   "cell_type": "markdown",
   "metadata": {},
   "source": [
    "### Training Set & Testing Set"
   ]
  },
  {
   "cell_type": "code",
   "execution_count": 25,
   "metadata": {},
   "outputs": [],
   "source": [
    "from sklearn.model_selection import train_test_split\n",
    "\n",
    "X_train, X_test, y_train, y_test = train_test_split(X, y, test_size = 0.3, random_state = 0)"
   ]
  },
  {
   "cell_type": "markdown",
   "metadata": {},
   "source": [
    "## 1. Support Vector Machine"
   ]
  },
  {
   "cell_type": "code",
   "execution_count": 26,
   "metadata": {},
   "outputs": [
    {
     "name": "stdout",
     "output_type": "stream",
     "text": [
      "Performance : 0.9883040935672515\n"
     ]
    }
   ],
   "source": [
    "from sklearn.svm import SVC\n",
    "\n",
    "svm = SVC(probability = True, kernel = 'linear')\n",
    "\n",
    "svm.fit(X_test, y_test)\n",
    "\n",
    "print(f'Performance : {svm.score(X_test, y_test)}')"
   ]
  },
  {
   "cell_type": "markdown",
   "metadata": {},
   "source": [
    "## 2. KNN (K Nearest Neighbour)"
   ]
  },
  {
   "cell_type": "code",
   "execution_count": 27,
   "metadata": {},
   "outputs": [
    {
     "name": "stdout",
     "output_type": "stream",
     "text": [
      "Performance : 0.9005847953216374\n"
     ]
    }
   ],
   "source": [
    "from sklearn.neighbors import KNeighborsClassifier\n",
    "\n",
    "knn = KNeighborsClassifier(n_neighbors = 2)\n",
    "\n",
    "knn.fit(X_train, y_train)\n",
    "\n",
    "print(f'Performance : {knn.score(X_test, y_test)}')"
   ]
  },
  {
   "cell_type": "markdown",
   "metadata": {},
   "source": [
    "## 3. Naive Bayes"
   ]
  },
  {
   "cell_type": "code",
   "execution_count": 28,
   "metadata": {},
   "outputs": [
    {
     "name": "stdout",
     "output_type": "stream",
     "text": [
      " Performance : 0.9239766081871345\n"
     ]
    }
   ],
   "source": [
    "from sklearn.naive_bayes import GaussianNB\n",
    "\n",
    "nb = GaussianNB()\n",
    "\n",
    "nb.fit(X_train, y_train)\n",
    "\n",
    "print(f' Performance : {nb.score(X_test, y_test)}')"
   ]
  },
  {
   "cell_type": "markdown",
   "metadata": {},
   "source": [
    "## 4. Random Forest"
   ]
  },
  {
   "cell_type": "code",
   "execution_count": 29,
   "metadata": {},
   "outputs": [
    {
     "name": "stdout",
     "output_type": "stream",
     "text": [
      "Performance : 0.9974874371859297\n"
     ]
    }
   ],
   "source": [
    "from sklearn import ensemble\n",
    "\n",
    "forest = ensemble.RandomForestClassifier(n_estimators = 50,\n",
    "                                        random_state = 0)\n",
    "\n",
    "forest.fit(X_train, y_train)\n",
    "\n",
    "print(f'Performance : {forest.score(X_train, y_train)}')"
   ]
  },
  {
   "cell_type": "markdown",
   "metadata": {},
   "source": [
    "## 5. Decision Tree"
   ]
  },
  {
   "cell_type": "code",
   "execution_count": 30,
   "metadata": {},
   "outputs": [
    {
     "name": "stdout",
     "output_type": "stream",
     "text": [
      "Performance : 0.9298245614035088\n"
     ]
    }
   ],
   "source": [
    "from sklearn import tree\n",
    "\n",
    "tree = tree.DecisionTreeClassifier(max_depth=6)\n",
    "\n",
    "tree.fit(X_train, y_train)\n",
    "\n",
    "tree.score(X_test, y_test)\n",
    "\n",
    "y_pred = tree.predict(X_test)\n",
    "print(f'Performance : {tree.score(X_test, y_test)}')"
   ]
  },
  {
   "cell_type": "markdown",
   "metadata": {},
   "source": [
    "# Receiver Operating Characteristic"
   ]
  },
  {
   "cell_type": "markdown",
   "metadata": {},
   "source": [
    "## Prediction Probabilities"
   ]
  },
  {
   "cell_type": "code",
   "execution_count": 31,
   "metadata": {},
   "outputs": [],
   "source": [
    "svm_prob = svm.predict_proba(X_test) # SVM Prediction\n",
    "knn_prob = knn.predict_proba(X_test) # KNN Prediction\n",
    "nb_prob = nb.predict_proba(X_test) # Naive Bayes Prediction\n",
    "forest_prob = forest.predict_proba(X_test) # Random Forest Prediction\n",
    "tree_prob = tree.predict_proba(X_test) # Desicion Tree Prediction"
   ]
  },
  {
   "cell_type": "markdown",
   "metadata": {},
   "source": [
    "## Probabilities Positive Outcome"
   ]
  },
  {
   "cell_type": "code",
   "execution_count": 50,
   "metadata": {},
   "outputs": [],
   "source": [
    "svm = svm_prob[:, 1]\n",
    "knn = knn_prob[:, 1]\n",
    "nb = nb_prob[:, 1]\n",
    "forest = forest_prob[:, 1]\n",
    "tree = tree_prob[:, 1]"
   ]
  },
  {
   "cell_type": "markdown",
   "metadata": {},
   "source": [
    "## Compute AUROC Values"
   ]
  },
  {
   "cell_type": "code",
   "execution_count": 49,
   "metadata": {},
   "outputs": [],
   "source": [
    "from sklearn.metrics import roc_curve, roc_auc_score\n",
    "\n",
    "svm_auc = roc_auc_score(y_test, svm)\n",
    "knn_auc = roc_auc_score(y_test, knn)\n",
    "nb_auc = roc_auc_score(y_test, nb)\n",
    "forest_auc = roc_auc_score(y_test, forest)\n",
    "tree_auc = roc_auc_score(y_test, tree)"
   ]
  },
  {
   "cell_type": "markdown",
   "metadata": {},
   "source": [
    "## Display AUROC Values"
   ]
  },
  {
   "cell_type": "code",
   "execution_count": 34,
   "metadata": {},
   "outputs": [
    {
     "name": "stdout",
     "output_type": "stream",
     "text": [
      "Support Vector Machine (SVM) AUROC Value = 0.997501469723692\n",
      "Key Nearest Neighbors (KNN) AUROC Value = 0.9534097589653144\n",
      "Naive Bayes AUROC Value = 0.9854497354497355\n",
      "Random Forest AUROC Value = 0.9963256907701352\n",
      "Desicion Tree AUROC Value = 0.9406966490299822\n"
     ]
    }
   ],
   "source": [
    "print(F'Support Vector Machine (SVM) AUROC Value = {svm_auc}')\n",
    "print(F'Key Nearest Neighbors (KNN) AUROC Value = {knn_auc}')\n",
    "print(F'Naive Bayes AUROC Value = {nb_auc}')\n",
    "print(F'Random Forest AUROC Value = {forest_auc}')\n",
    "print(F'Desicion Tree AUROC Value = {tree_auc}')"
   ]
  },
  {
   "cell_type": "markdown",
   "metadata": {},
   "source": [
    "## Calculate ROC Curve"
   ]
  },
  {
   "cell_type": "code",
   "execution_count": 44,
   "metadata": {},
   "outputs": [],
   "source": [
    "svm_fpr, svm_tpr, _ = roc_curve(y_test, svm)\n",
    "knn_fpr, knn_tpr, _ = roc_curve(y_test, knn)\n",
    "nb_fpr, nb_tpr, _ = roc_curve(y_test, nb)\n",
    "forest_fpr, forest_tpr, _ = roc_curve(y_test, forest)\n",
    "tree_fpr, tree_tpr, _ = roc_curve(y_test, tree)"
   ]
  },
  {
   "cell_type": "markdown",
   "metadata": {},
   "source": [
    "# Data Visualisasi"
   ]
  },
  {
   "cell_type": "code",
   "execution_count": 47,
   "metadata": {},
   "outputs": [
    {
     "data": {
      "image/png": "[encoded data removed]",
      "text/plain": [
       "<Figure size 720x360 with 1 Axes>"
      ]
     },
     "metadata": {
      "needs_background": "light"
     },
     "output_type": "display_data"
    }
   ],
   "source": [
    "import matplotlib.pyplot as plt\n",
    "\n",
    "plt.figure(figsize = (10, 5))\n",
    "\n",
    "plt.plot(svm_fpr, svm_tpr, linestyle = '--', label = 'Support Vector Machine (SVM) (AUROC = %0.6f)' %svm_auc)\n",
    "plt.plot(knn_fpr, knn_tpr, linestyle = '--', label = 'Key Nearest Neighbors (KNN) (AUROC = %0.6f)' %knn_auc)\n",
    "plt.plot(nb_fpr, nb_tpr, linestyle = '--', label = 'Naive Bayes (AUROC = %0.6f)' %nb_auc)\n",
    "plt.plot(forest_fpr, forest_tpr, linestyle = '--', label = 'Random Forest (AUROC = %0.6f)' %forest_auc)\n",
    "plt.plot(tree_fpr, tree_tpr, linestyle = '--', label = 'Desicion Tree (AUROC = %0.6f)' %tree_auc)\n",
    "\n",
    "\n",
    "# Title\n",
    "\n",
    "plt.title('ROC Plot')\n",
    "\n",
    "# Axis label\n",
    "\n",
    "plt.xlabel('-')\n",
    "plt.ylabel('+')\n",
    "\n",
    "# Show Legend\n",
    "\n",
    "plt.legend()\n",
    "plt.show()"
   ]
  }
 ],
 "metadata": {
  "kernelspec": {
   "display_name": "Python 3",
   "language": "python",
   "name": "python3"
  },
  "language_info": {
   "codemirror_mode": {
    "name": "ipython",
    "version": 3
   },
   "file_extension": ".py",
   "mimetype": "text/x-python",
   "name": "python",
   "nbconvert_exporter": "python",
   "pygments_lexer": "ipython3",
   "version": "3.8.5"
  }
 },
 "nbformat": 4,
 "nbformat_minor": 4
}
